# Data Cleaning
**Challenge**: How many rows and columns does `df_apps` have? What are the column names? Look at a random sample of 5 different rows with [.sample()](https://pandas.pydata.org/pandas-docs/stable/reference/api/pandas.DataFrame.sample.html).



### Drop Unused Columns\n","\n","**Challenge**: Remove the columns called `Last_Updated` and `Android_Version` from the DataFrame. We will not use these columns. 

### Find and Remove NaN values in Ratings\n","\n","**Challenge**: How may rows have a NaN value (not-a-number) in the Ratings column? Create DataFrame called `df_apps_clean` that does not include these rows. 


### Find and Remove Duplicates\n","\n","**Challenge**: Are there any duplicates in data? Check for duplicates using the [.duplicated()](https://pandas.pydata.org/pandas-docs/stable/reference/api/pandas.DataFrame.duplicated.html) function. How many entries can you find for the \"Instagram\" app? Use [.drop_duplicates()](https://pandas.pydata.org/pandas-docs/stable/reference/api/pandas.DataFrame.drop_duplicates.html) to remove any duplicates from `df_apps_clean`. \n





# Find Highest Rated Apps\n","\n","**Challenge**: Identify which apps are the highest rated. What problem might you encounter if you rely exclusively on ratings alone to determine the quality of an app?

# Find 5 Largest Apps in terms of Size (MBs)\n","\n","**Challenge**: What's the size in megabytes (MB) of the largest Android apps in the Google Play Store. Based on the data, do you think there could be limit in place or can developers make apps as large as they please? 

# Find the 5 App with Most Reviews\n","\n","**Challenge**: Which apps have the highest number of reviews? Are there any paid apps among the top 50?

# Plotly Pie and Donut Charts - Visualise Categorical Data: Content Ratings




# Numeric Type Conversion: Examine the Number of Installs\n","\n","**Challenge**: How many apps had over 1 billion (that's right - BILLION) installations? How many apps just had a single install? \n","\n","Check the datatype of the Installs column.\n","\n","Count the number of apps at each level of installations. \n","\n","Convert the number of installations (the Installs column) to a numeric data type. Hint: this is a 2-step process. You'll have make sure you remove non-numeric characters first. 




# Find the Most Expensive Apps, Filter out the Junk, and Calculate a (ballpark) Sales Revenue Estimate\n","\n","Let's examine the Price column more closely.\n","\n","**Challenge**: Convert the price column to numeric data. Then investigate the top 20 most expensive apps in the dataset.\n","\n","Remove all apps that cost more than $250 from the `df_apps_clean` DataFrame.\n","\n","Add a column called 'Revenue_Estimate' to the DataFrame. This column should hold the price of the app times the number of installs. What are the top 10 highest grossing paid apps according to this estimate? Out of the top 10 highest grossing paid apps, how many are games?\n

### The most expensive apps sub $250

### Highest Grossing Paid Apps (ballpark estimate)

# Plotly Bar Charts & Scatter Plots: Analysing App Categories



### Vertical Bar Chart - Highest Competition (Number of Apps)

### Horizontal Bar Chart - Most Popular Categories (Highest Downloads)


### Category Concentration - Downloads vs. Competition\n","\n","**Challenge**: \n","* First, create a DataFrame that has the number of apps in one column and the number of installs in another:\n","\n","<img src=https://imgur.com/uQRSlXi.png width=\"350\">\n","\n","* Then use the [plotly express examples from the documentation](https://plotly.com/python/line-and-scatter/) alongside the [.scatter() API reference](https://plotly.com/python-api-reference/generated/plotly.express.scatter.html)to create scatter plot that looks like this. \n","\n","<img src=https://imgur.com/cHsqh6a.png>\n","\n","*Hint*: Use the size, hover_name and color parameters in .scatter(). To scale the yaxis, call .update_layout() and specify that the yaxis should be on a log-scale like so: yaxis=dict(type='log') 

# Extracting Nested Data from a Column\n","\n","**Challenge**: How many different types of genres are there? Can an app belong to more than one genre? Check what happens when you use .value_counts() on a column with nested values? See if you can work around this problem by using the .split() function and the DataFrame's [.stack() method](https://pandas.pydata.org/pandas-docs/stable/reference/api/pandas.DataFrame.stack.html). \n

# Colour Scales in Plotly Charts - Competition in Genres
**Challenge**: Can you create this chart with the Series containing the genre data? \n","\n","<img src=https://imgur.com/DbcoQli.png width=400>\n","\n","Try experimenting with the built in colour scales in Plotly. You can find a full list [here](https://plotly.com/python/builtin-colorscales/). \n","\n","* Find a way to set the colour scale using the color_continuous_scale parameter. \n","* Find a way to make the color axis disappear by using coloraxis_showscale. 

# Grouped Bar Charts: Free vs. Paid Apps per Category

**Challenge**: Use the plotly express bar [chart examples](https://plotly.com/python/bar-charts/#bar-chart-with-sorted-or-ordered-categories) and the [.bar() API reference](https://plotly.com/python-api-reference/generated/plotly.express.bar.html#plotly.express.bar) to create this bar chart: \n","\n","<img src=https://imgur.com/LE0XCxA.png>\n","\n","You'll want to use the `df_free_vs_paid` DataFrame that you created above that has the total number of free and paid apps per category. \n","\n","See if you can figure out how to get the look above by changing the `categoryorder` to 'total descending' as outlined in the documentation here [here](https://plotly.com/python/categorical-axes/#automatically-sorting-categories-by-name-or-total-value). 

# Plotly Box Plots: Lost Downloads for Paid Apps\n","\n","**Challenge**: Create a box plot that shows the number of Installs for free versus paid apps. How does the median number of installations compare? Is the difference large or small?\n","\n","Use the [Box Plots Guide](https://plotly.com/python/box-plots/) and the [.box API reference](https://plotly.com/python-api-reference/generated/plotly.express.box.html) to create the following chart. \n","\n","<img src=https://imgur.com/uVsECT3.png>\n

# Plotly Box Plots: Revenue by App Category\n","\n","**Challenge**: See if you can generate the chart below: \n","\n","<img src=https://imgur.com/v4CiNqX.png>\n","\n","Looking at the hover text, how much does the median app earn in the Tools category? If developing an Android app costs $30,000 or thereabouts, does the average photography app recoup its development costs?\n","\n","Hint: I've used 'min ascending' to sort the categories. 

# How Much Can You Charge? Examine Paid App Pricing Strategies by Category\n","\n","**Challenge**: What is the median price price for a paid app? Then compare pricing by category by creating another box plot. But this time examine the prices (instead of the revenue estimates) of the paid apps. I recommend using `{categoryorder':'max descending'}` to sort the categories.


